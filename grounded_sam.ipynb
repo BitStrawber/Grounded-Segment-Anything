{
 "cells": [
  {
   "attachments": {},
   "cell_type": "markdown",
   "metadata": {},
   "source": [
    "# Grounded Segement Anything\n",
    "\n",
    "![gdgligen](https://github.com/IDEA-Research/Grounded-Segment-Anything/raw/main/assets/grounded_sam_inpainting_demo.png)"
   ]
  },
  {
   "attachments": {},
   "cell_type": "markdown",
   "metadata": {},
   "source": [
    "**Why this project?**\n",
    "- [Segment Anything](https://github.com/facebookresearch/segment-anything) is a strong segmentation model. But it need prompts (like boxes/points) to generate masks. \n",
    "- [Grounding DINO](https://github.com/IDEA-Research/GroundingDINO) is a strong zero-shot detector which enable to generate high quality boxes and labels with free-form text. \n",
    "- The combination of the two models enable to **detect and segment everything** with text inputs!"
   ]
  },
  {
   "cell_type": "markdown",
   "metadata": {},
   "source": [
    "# Prepare Environments"
   ]
  },
  {
   "cell_type": "code",
   "execution_count": 1,
   "metadata": {},
   "outputs": [
    {
     "name": "stdout",
     "output_type": "stream",
     "text": [
      "\u001b[33mDEPRECATION: Loading egg at /home/xcx/anaconda3/envs/sam/lib/python3.11/site-packages/munkres-1.1.4-py3.11.egg is deprecated. pip 25.1 will enforce this behaviour change. A possible replacement is to use pip for package installation. Discussion can be found at https://github.com/pypa/pip/issues/12330\u001b[0m\u001b[33m\n",
      "\u001b[0m\u001b[33mDEPRECATION: Loading egg at /home/xcx/anaconda3/envs/sam/lib/python3.11/site-packages/mmpose-0.28.0-py3.11.egg is deprecated. pip 25.1 will enforce this behaviour change. A possible replacement is to use pip for package installation. Discussion can be found at https://github.com/pypa/pip/issues/12330\u001b[0m\u001b[33m\n",
      "\u001b[0m\u001b[33mDEPRECATION: Loading egg at /home/xcx/anaconda3/envs/sam/lib/python3.11/site-packages/xtcocotools-1.14.3-py3.11-linux-x86_64.egg is deprecated. pip 25.1 will enforce this behaviour change. A possible replacement is to use pip for package installation. Discussion can be found at https://github.com/pypa/pip/issues/12330\u001b[0m\u001b[33m\n",
      "\u001b[0mLooking in indexes: https://pypi.mirrors.ustc.edu.cn/simple/\n",
      "Obtaining file:///home/xcx/%E6%A1%8C%E9%9D%A2/Grounded-Segment-Anything/segment_anything\n",
      "  Preparing metadata (setup.py) ... \u001b[?25lerror\n",
      "  \u001b[1;31merror\u001b[0m: \u001b[1msubprocess-exited-with-error\u001b[0m\n",
      "  \n",
      "  \u001b[31m×\u001b[0m \u001b[32mpython setup.py egg_info\u001b[0m did not run successfully.\n",
      "  \u001b[31m│\u001b[0m exit code: \u001b[1;36m1\u001b[0m\n",
      "  \u001b[31m╰─>\u001b[0m \u001b[31m[25 lines of output]\u001b[0m\n",
      "  \u001b[31m   \u001b[0m Traceback (most recent call last):\n",
      "  \u001b[31m   \u001b[0m   File \"<string>\", line 2, in <module>\n",
      "  \u001b[31m   \u001b[0m   File \"<pip-setuptools-caller>\", line 34, in <module>\n",
      "  \u001b[31m   \u001b[0m   File \"/home/xcx/桌面/Grounded-Segment-Anything/segment_anything/setup.py\", line 9, in <module>\n",
      "  \u001b[31m   \u001b[0m     setup(\n",
      "  \u001b[31m   \u001b[0m   File \"/home/xcx/anaconda3/envs/sam/lib/python3.11/site-packages/setuptools/__init__.py\", line 108, in setup\n",
      "  \u001b[31m   \u001b[0m     return distutils.core.setup(**attrs)\n",
      "  \u001b[31m   \u001b[0m            ^^^^^^^^^^^^^^^^^^^^^^^^^^^^^\n",
      "  \u001b[31m   \u001b[0m   File \"/home/xcx/anaconda3/envs/sam/lib/python3.11/site-packages/setuptools/_distutils/core.py\", line 146, in setup\n",
      "  \u001b[31m   \u001b[0m     _setup_distribution = dist = klass(attrs)\n",
      "  \u001b[31m   \u001b[0m                                  ^^^^^^^^^^^^\n",
      "  \u001b[31m   \u001b[0m   File \"/home/xcx/anaconda3/envs/sam/lib/python3.11/site-packages/setuptools/dist.py\", line 278, in __init__\n",
      "  \u001b[31m   \u001b[0m     _Distribution.__init__(self, dist_attrs)\n",
      "  \u001b[31m   \u001b[0m   File \"/home/xcx/anaconda3/envs/sam/lib/python3.11/site-packages/setuptools/_distutils/dist.py\", line 286, in __init__\n",
      "  \u001b[31m   \u001b[0m     self.finalize_options()\n",
      "  \u001b[31m   \u001b[0m   File \"/home/xcx/anaconda3/envs/sam/lib/python3.11/site-packages/setuptools/dist.py\", line 629, in finalize_options\n",
      "  \u001b[31m   \u001b[0m     for ep in sorted(loaded, key=by_order):\n",
      "  \u001b[31m   \u001b[0m               ^^^^^^^^^^^^^^^^^^^^^^^^^^^^\n",
      "  \u001b[31m   \u001b[0m   File \"/home/xcx/anaconda3/envs/sam/lib/python3.11/site-packages/setuptools/dist.py\", line 628, in <lambda>\n",
      "  \u001b[31m   \u001b[0m     loaded = map(lambda e: e.load(), filtered)\n",
      "  \u001b[31m   \u001b[0m                            ^^^^^^^^\n",
      "  \u001b[31m   \u001b[0m   File \"/home/xcx/anaconda3/envs/sam/lib/python3.11/importlib/metadata/__init__.py\", line 204, in load\n",
      "  \u001b[31m   \u001b[0m     return functools.reduce(getattr, attrs, module)\n",
      "  \u001b[31m   \u001b[0m            ^^^^^^^^^^^^^^^^^^^^^^^^^^^^^^^^^^^^^^^^\n",
      "  \u001b[31m   \u001b[0m AttributeError: type object 'Distribution' has no attribute '_finalize_feature_opts'\n",
      "  \u001b[31m   \u001b[0m \u001b[31m[end of output]\u001b[0m\n",
      "  \n",
      "  \u001b[1;35mnote\u001b[0m: This error originates from a subprocess, and is likely not a problem with pip.\n",
      "\u001b[1;31merror\u001b[0m: \u001b[1mmetadata-generation-failed\u001b[0m\n",
      "\n",
      "\u001b[31m×\u001b[0m Encountered error while generating package metadata.\n",
      "\u001b[31m╰─>\u001b[0m See above for output.\n",
      "\n",
      "\u001b[1;35mnote\u001b[0m: This is an issue with the package mentioned above, not pip.\n",
      "\u001b[1;36mhint\u001b[0m: See above for details.\n",
      "\u001b[33mDEPRECATION: Loading egg at /home/xcx/anaconda3/envs/sam/lib/python3.11/site-packages/munkres-1.1.4-py3.11.egg is deprecated. pip 25.1 will enforce this behaviour change. A possible replacement is to use pip for package installation. Discussion can be found at https://github.com/pypa/pip/issues/12330\u001b[0m\u001b[33m\n",
      "\u001b[0m\u001b[33mDEPRECATION: Loading egg at /home/xcx/anaconda3/envs/sam/lib/python3.11/site-packages/mmpose-0.28.0-py3.11.egg is deprecated. pip 25.1 will enforce this behaviour change. A possible replacement is to use pip for package installation. Discussion can be found at https://github.com/pypa/pip/issues/12330\u001b[0m\u001b[33m\n",
      "\u001b[0m\u001b[33mDEPRECATION: Loading egg at /home/xcx/anaconda3/envs/sam/lib/python3.11/site-packages/xtcocotools-1.14.3-py3.11-linux-x86_64.egg is deprecated. pip 25.1 will enforce this behaviour change. A possible replacement is to use pip for package installation. Discussion can be found at https://github.com/pypa/pip/issues/12330\u001b[0m\u001b[33m\n",
      "\u001b[0mLooking in indexes: https://pypi.mirrors.ustc.edu.cn/simple/\n",
      "Obtaining file:///home/xcx/%E6%A1%8C%E9%9D%A2/Grounded-Segment-Anything/GroundingDINO\n",
      "done\n",
      "\u001b[?25h  Checking if build backend supports build_editable ... \u001b[?25ldone\n",
      "\u001b[?25h  Getting requirements to build editable ... \u001b[?25done\n",
      "\u001b[?25h  Preparing editable metadata (pyproject.toml) ... \u001b[?25done\n",
      "\u001b[?25hRequirement already satisfied: torch in /home/xcx/anaconda3/envs/sam/lib/python3.11/site-packages (from groundingdino==0.1.0) (2.5.1)\n",
      "Requirement already satisfied: torchvision in /home/xcx/anaconda3/envs/sam/lib/python3.11/site-packages (from groundingdino==0.1.0) (0.20.1)\n",
      "Requirement already satisfied: transformers in /home/xcx/anaconda3/envs/sam/lib/python3.11/site-packages (from groundingdino==0.1.0) (4.46.3)\n",
      "Requirement already satisfied: addict in /home/xcx/anaconda3/envs/sam/lib/python3.11/site-packages (from groundingdino==0.1.0) (2.4.0)\n",
      "Requirement already satisfied: yapf in /home/xcx/anaconda3/envs/sam/lib/python3.11/site-packages (from groundingdino==0.1.0) (0.43.0)\n",
      "Requirement already satisfied: timm in /home/xcx/anaconda3/envs/sam/lib/python3.11/site-packages (from groundingdino==0.1.0) (1.0.12)\n",
      "Requirement already satisfied: numpy in /home/xcx/anaconda3/envs/sam/lib/python3.11/site-packages (from groundingdino==0.1.0) (2.0.2)\n",
      "Requirement already satisfied: opencv-python in /home/xcx/anaconda3/envs/sam/lib/python3.11/site-packages (from groundingdino==0.1.0) (4.10.0.84)\n",
      "Requirement already satisfied: supervision in /home/xcx/anaconda3/envs/sam/lib/python3.11/site-packages (from groundingdino==0.1.0) (0.25.0)\n",
      "Requirement already satisfied: pycocotools in /home/xcx/anaconda3/envs/sam/lib/python3.11/site-packages (from groundingdino==0.1.0) (2.0.8)\n",
      "Requirement already satisfied: matplotlib>=2.1.0 in /home/xcx/anaconda3/envs/sam/lib/python3.11/site-packages (from pycocotools->groundingdino==0.1.0) (3.9.3)\n",
      "Requirement already satisfied: contourpy>=1.0.7 in /home/xcx/anaconda3/envs/sam/lib/python3.11/site-packages (from supervision->groundingdino==0.1.0) (1.3.1)\n",
      "Requirement already satisfied: defusedxml<0.8.0,>=0.7.1 in /home/xcx/anaconda3/envs/sam/lib/python3.11/site-packages (from supervision->groundingdino==0.1.0) (0.7.1)\n",
      "Requirement already satisfied: pillow>=9.4 in /home/xcx/anaconda3/envs/sam/lib/python3.11/site-packages (from supervision->groundingdino==0.1.0) (11.0.0)\n",
      "Requirement already satisfied: pyyaml>=5.3 in /home/xcx/anaconda3/envs/sam/lib/python3.11/site-packages (from supervision->groundingdino==0.1.0) (6.0.2)\n",
      "Requirement already satisfied: scipy<2.0.0,>=1.10.0 in /home/xcx/anaconda3/envs/sam/lib/python3.11/site-packages (from supervision->groundingdino==0.1.0) (1.14.1)\n",
      "Requirement already satisfied: huggingface_hub in /home/xcx/anaconda3/envs/sam/lib/python3.11/site-packages (from timm->groundingdino==0.1.0) (0.26.3)\n",
      "Requirement already satisfied: safetensors in /home/xcx/anaconda3/envs/sam/lib/python3.11/site-packages (from timm->groundingdino==0.1.0) (0.4.5)\n",
      "Requirement already satisfied: filelock in /home/xcx/anaconda3/envs/sam/lib/python3.11/site-packages (from torch->groundingdino==0.1.0) (3.17.0)\n",
      "Requirement already satisfied: typing-extensions>=4.8.0 in /home/xcx/anaconda3/envs/sam/lib/python3.11/site-packages (from torch->groundingdino==0.1.0) (4.12.2)\n",
      "Requirement already satisfied: networkx in /home/xcx/anaconda3/envs/sam/lib/python3.11/site-packages (from torch->groundingdino==0.1.0) (3.4.2)\n",
      "Requirement already satisfied: jinja2 in /home/xcx/anaconda3/envs/sam/lib/python3.11/site-packages (from torch->groundingdino==0.1.0) (3.1.6)\n",
      "Requirement already satisfied: fsspec in /home/xcx/anaconda3/envs/sam/lib/python3.11/site-packages (from torch->groundingdino==0.1.0) (2024.10.0)\n",
      "Requirement already satisfied: sympy!=1.13.2,>=1.13.1 in /home/xcx/anaconda3/envs/sam/lib/python3.11/site-packages (from torch->groundingdino==0.1.0) (1.13.1)\n",
      "Requirement already satisfied: packaging>=20.0 in /home/xcx/anaconda3/envs/sam/lib/python3.11/site-packages (from transformers->groundingdino==0.1.0) (24.2)\n",
      "Requirement already satisfied: regex!=2019.12.17 in /home/xcx/anaconda3/envs/sam/lib/python3.11/site-packages (from transformers->groundingdino==0.1.0) (2024.11.6)\n",
      "Requirement already satisfied: requests in /home/xcx/anaconda3/envs/sam/lib/python3.11/site-packages (from transformers->groundingdino==0.1.0) (2.32.3)\n",
      "Collecting tokenizers<0.21,>=0.20 (from transformers->groundingdino==0.1.0)\n",
      "  Downloading https://mirrors.ustc.edu.cn/pypi/packages/50/f6/2841de926bc4118af996eaf0bdf0ea5b012245044766ffc0347e6c968e63/tokenizers-0.20.3-cp311-cp311-manylinux_2_17_x86_64.manylinux2014_x86_64.whl (3.0 MB)\n",
      "\u001b[2K     \u001b[90m━━━━━━━━━━━━━━━━━━━━━━━━━━━━━━━━━━━━━━━━\u001b[0m \u001b[32m3.0/3.0 MB\u001b[0m \u001b[31m10.9 MB/s\u001b[0m eta \u001b[36m0:00:00\u001b[0ma \u001b[36m0:00:01\u001b[0m\n",
      "\u001b[?25hRequirement already satisfied: tqdm>=4.27 in /home/xcx/anaconda3/envs/sam/lib/python3.11/site-packages (from transformers->groundingdino==0.1.0) (4.67.1)\n",
      "Requirement already satisfied: platformdirs>=3.5.1 in /home/xcx/anaconda3/envs/sam/lib/python3.11/site-packages (from yapf->groundingdino==0.1.0) (4.3.6)\n",
      "Requirement already satisfied: cycler>=0.10 in /home/xcx/anaconda3/envs/sam/lib/python3.11/site-packages (from matplotlib>=2.1.0->pycocotools->groundingdino==0.1.0) (0.12.1)\n",
      "Requirement already satisfied: fonttools>=4.22.0 in /home/xcx/anaconda3/envs/sam/lib/python3.11/site-packages (from matplotlib>=2.1.0->pycocotools->groundingdino==0.1.0) (4.55.1)\n",
      "Requirement already satisfied: kiwisolver>=1.3.1 in /home/xcx/anaconda3/envs/sam/lib/python3.11/site-packages (from matplotlib>=2.1.0->pycocotools->groundingdino==0.1.0) (1.4.8)\n",
      "Requirement already satisfied: pyparsing>=2.3.1 in /home/xcx/anaconda3/envs/sam/lib/python3.11/site-packages (from matplotlib>=2.1.0->pycocotools->groundingdino==0.1.0) (3.2.0)\n",
      "Requirement already satisfied: python-dateutil>=2.7 in /home/xcx/anaconda3/envs/sam/lib/python3.11/site-packages (from matplotlib>=2.1.0->pycocotools->groundingdino==0.1.0) (2.9.0.post0)\n",
      "Requirement already satisfied: mpmath<1.4,>=1.1.0 in /home/xcx/anaconda3/envs/sam/lib/python3.11/site-packages (from sympy!=1.13.2,>=1.13.1->torch->groundingdino==0.1.0) (1.3.0)\n",
      "Requirement already satisfied: MarkupSafe>=2.0 in /home/xcx/anaconda3/envs/sam/lib/python3.11/site-packages (from jinja2->torch->groundingdino==0.1.0) (2.1.5)\n",
      "Requirement already satisfied: charset-normalizer<4,>=2 in /home/xcx/anaconda3/envs/sam/lib/python3.11/site-packages (from requests->transformers->groundingdino==0.1.0) (3.3.2)\n",
      "Requirement already satisfied: idna<4,>=2.5 in /home/xcx/anaconda3/envs/sam/lib/python3.11/site-packages (from requests->transformers->groundingdino==0.1.0) (3.7)\n",
      "Requirement already satisfied: urllib3<3,>=1.21.1 in /home/xcx/anaconda3/envs/sam/lib/python3.11/site-packages (from requests->transformers->groundingdino==0.1.0) (1.26.20)\n",
      "Requirement already satisfied: certifi>=2017.4.17 in /home/xcx/anaconda3/envs/sam/lib/python3.11/site-packages (from requests->transformers->groundingdino==0.1.0) (2025.4.26)\n",
      "Requirement already satisfied: six>=1.5 in /home/xcx/anaconda3/envs/sam/lib/python3.11/site-packages (from python-dateutil>=2.7->matplotlib>=2.1.0->pycocotools->groundingdino==0.1.0) (1.17.0)\n",
      "Building wheels for collected packages: groundingdino\n",
      "  Building editable for groundingdino (pyproject.toml) ... \u001b[?25error\n",
      "  \u001b[1;31merror\u001b[0m: \u001b[1msubprocess-exited-with-error\u001b[0m\n",
      "  \n",
      "  \u001b[31m×\u001b[0m \u001b[32mBuilding editable for groundingdino \u001b[0m\u001b[1;32m(\u001b[0m\u001b[32mpyproject.toml\u001b[0m\u001b[1;32m)\u001b[0m did not run successfully.\n",
      "  \u001b[31m│\u001b[0m exit code: \u001b[1;36m1\u001b[0m\n",
      "  \u001b[31m╰─>\u001b[0m \u001b[31m[78 lines of output]\u001b[0m\n",
      "  \u001b[31m   \u001b[0m /tmp/pip-build-env-wl4hzra_/overlay/lib/python3.11/site-packages/torch/_subclasses/functional_tensor.py:276: UserWarning: Failed to initialize NumPy: No module named 'numpy' (Triggered internally at /pytorch/torch/csrc/utils/tensor_numpy.cpp:81.)\n",
      "  \u001b[31m   \u001b[0m   cpu = _conversion_method_template(device=torch.device(\"cpu\"))\n",
      "  \u001b[31m   \u001b[0m Building wheel groundingdino-0.1.0\n",
      "  \u001b[31m   \u001b[0m Compiling with CUDA\n",
      "  \u001b[31m   \u001b[0m running editable_wheel\n",
      "  \u001b[31m   \u001b[0m creating /tmp/pip-wheel-u5xmjnkx/.tmp-i75djgsj/groundingdino.egg-info\n",
      "  \u001b[31m   \u001b[0m writing /tmp/pip-wheel-u5xmjnkx/.tmp-i75djgsj/groundingdino.egg-info/PKG-INFO\n",
      "  \u001b[31m   \u001b[0m writing dependency_links to /tmp/pip-wheel-u5xmjnkx/.tmp-i75djgsj/groundingdino.egg-info/dependency_links.txt\n",
      "  \u001b[31m   \u001b[0m writing requirements to /tmp/pip-wheel-u5xmjnkx/.tmp-i75djgsj/groundingdino.egg-info/requires.txt\n",
      "  \u001b[31m   \u001b[0m writing top-level names to /tmp/pip-wheel-u5xmjnkx/.tmp-i75djgsj/groundingdino.egg-info/top_level.txt\n",
      "  \u001b[31m   \u001b[0m writing manifest file '/tmp/pip-wheel-u5xmjnkx/.tmp-i75djgsj/groundingdino.egg-info/SOURCES.txt'\n",
      "  \u001b[31m   \u001b[0m reading manifest file '/tmp/pip-wheel-u5xmjnkx/.tmp-i75djgsj/groundingdino.egg-info/SOURCES.txt'\n",
      "  \u001b[31m   \u001b[0m adding license file 'LICENSE'\n",
      "  \u001b[31m   \u001b[0m writing manifest file '/tmp/pip-wheel-u5xmjnkx/.tmp-i75djgsj/groundingdino.egg-info/SOURCES.txt'\n",
      "  \u001b[31m   \u001b[0m creating '/tmp/pip-wheel-u5xmjnkx/.tmp-i75djgsj/groundingdino-0.1.0.dist-info'\n",
      "  \u001b[31m   \u001b[0m creating /tmp/pip-wheel-u5xmjnkx/.tmp-i75djgsj/groundingdino-0.1.0.dist-info/WHEEL\n",
      "  \u001b[31m   \u001b[0m running build_py\n",
      "  \u001b[31m   \u001b[0m running build_ext\n",
      "  \u001b[31m   \u001b[0m Traceback (most recent call last):\n",
      "  \u001b[31m   \u001b[0m   File \"/home/xcx/anaconda3/envs/sam/lib/python3.11/site-packages/pip/_vendor/pyproject_hooks/_in_process/_in_process.py\", line 353, in <module>\n",
      "  \u001b[31m   \u001b[0m     main()\n",
      "  \u001b[31m   \u001b[0m   File \"/home/xcx/anaconda3/envs/sam/lib/python3.11/site-packages/pip/_vendor/pyproject_hooks/_in_process/_in_process.py\", line 335, in main\n",
      "  \u001b[31m   \u001b[0m     json_out['return_val'] = hook(**hook_input['kwargs'])\n",
      "  \u001b[31m   \u001b[0m                              ^^^^^^^^^^^^^^^^^^^^^^^^^^^^\n",
      "  \u001b[31m   \u001b[0m   File \"/home/xcx/anaconda3/envs/sam/lib/python3.11/site-packages/pip/_vendor/pyproject_hooks/_in_process/_in_process.py\", line 273, in build_editable\n",
      "  \u001b[31m   \u001b[0m     return hook(wheel_directory, config_settings, metadata_directory)\n",
      "  \u001b[31m   \u001b[0m            ^^^^^^^^^^^^^^^^^^^^^^^^^^^^^^^^^^^^^^^^^^^^^^^^^^^^^^^^^^\n",
      "  \u001b[31m   \u001b[0m   File \"/tmp/pip-build-env-wl4hzra_/overlay/lib/python3.11/site-packages/setuptools/build_meta.py\", line 468, in build_editable\n",
      "  \u001b[31m   \u001b[0m     return self._build_with_temp_dir(\n",
      "  \u001b[31m   \u001b[0m            ^^^^^^^^^^^^^^^^^^^^^^^^^^\n",
      "  \u001b[31m   \u001b[0m   File \"/tmp/pip-build-env-wl4hzra_/overlay/lib/python3.11/site-packages/setuptools/build_meta.py\", line 404, in _build_with_temp_dir\n",
      "  \u001b[31m   \u001b[0m     self.run_setup()\n",
      "  \u001b[31m   \u001b[0m   File \"/tmp/pip-build-env-wl4hzra_/overlay/lib/python3.11/site-packages/setuptools/build_meta.py\", line 317, in run_setup\n",
      "  \u001b[31m   \u001b[0m     exec(code, locals())\n",
      "  \u001b[31m   \u001b[0m   File \"<string>\", line 200, in <module>\n",
      "  \u001b[31m   \u001b[0m   File \"/tmp/pip-build-env-wl4hzra_/overlay/lib/python3.11/site-packages/setuptools/__init__.py\", line 115, in setup\n",
      "  \u001b[31m   \u001b[0m     return distutils.core.setup(**attrs)\n",
      "  \u001b[31m   \u001b[0m            ^^^^^^^^^^^^^^^^^^^^^^^^^^^^^\n",
      "  \u001b[31m   \u001b[0m   File \"/tmp/pip-build-env-wl4hzra_/overlay/lib/python3.11/site-packages/setuptools/_distutils/core.py\", line 186, in setup\n",
      "  \u001b[31m   \u001b[0m     return run_commands(dist)\n",
      "  \u001b[31m   \u001b[0m            ^^^^^^^^^^^^^^^^^^\n",
      "  \u001b[31m   \u001b[0m   File \"/tmp/pip-build-env-wl4hzra_/overlay/lib/python3.11/site-packages/setuptools/_distutils/core.py\", line 202, in run_commands\n",
      "  \u001b[31m   \u001b[0m     dist.run_commands()\n",
      "  \u001b[31m   \u001b[0m   File \"/tmp/pip-build-env-wl4hzra_/overlay/lib/python3.11/site-packages/setuptools/_distutils/dist.py\", line 1002, in run_commands\n",
      "  \u001b[31m   \u001b[0m     self.run_command(cmd)\n",
      "  \u001b[31m   \u001b[0m   File \"/tmp/pip-build-env-wl4hzra_/overlay/lib/python3.11/site-packages/setuptools/dist.py\", line 1102, in run_command\n",
      "  \u001b[31m   \u001b[0m     super().run_command(command)\n",
      "  \u001b[31m   \u001b[0m   File \"/tmp/pip-build-env-wl4hzra_/overlay/lib/python3.11/site-packages/setuptools/_distutils/dist.py\", line 1021, in run_command\n",
      "  \u001b[31m   \u001b[0m     cmd_obj.run()\n",
      "  \u001b[31m   \u001b[0m   File \"/tmp/pip-build-env-wl4hzra_/overlay/lib/python3.11/site-packages/setuptools/command/editable_wheel.py\", line 139, in run\n",
      "  \u001b[31m   \u001b[0m     self._create_wheel_file(bdist_wheel)\n",
      "  \u001b[31m   \u001b[0m   File \"/tmp/pip-build-env-wl4hzra_/overlay/lib/python3.11/site-packages/setuptools/command/editable_wheel.py\", line 349, in _create_wheel_file\n",
      "  \u001b[31m   \u001b[0m     files, mapping = self._run_build_commands(dist_name, unpacked, lib, tmp)\n",
      "  \u001b[31m   \u001b[0m                      ^^^^^^^^^^^^^^^^^^^^^^^^^^^^^^^^^^^^^^^^^^^^^^^^^^^^^^^\n",
      "  \u001b[31m   \u001b[0m   File \"/tmp/pip-build-env-wl4hzra_/overlay/lib/python3.11/site-packages/setuptools/command/editable_wheel.py\", line 272, in _run_build_commands\n",
      "  \u001b[31m   \u001b[0m     self._run_build_subcommands()\n",
      "  \u001b[31m   \u001b[0m   File \"/tmp/pip-build-env-wl4hzra_/overlay/lib/python3.11/site-packages/setuptools/command/editable_wheel.py\", line 299, in _run_build_subcommands\n",
      "  \u001b[31m   \u001b[0m     self.run_command(name)\n",
      "  \u001b[31m   \u001b[0m   File \"/tmp/pip-build-env-wl4hzra_/overlay/lib/python3.11/site-packages/setuptools/_distutils/cmd.py\", line 357, in run_command\n",
      "  \u001b[31m   \u001b[0m     self.distribution.run_command(command)\n",
      "  \u001b[31m   \u001b[0m   File \"/tmp/pip-build-env-wl4hzra_/overlay/lib/python3.11/site-packages/setuptools/dist.py\", line 1102, in run_command\n",
      "  \u001b[31m   \u001b[0m     super().run_command(command)\n",
      "  \u001b[31m   \u001b[0m   File \"/tmp/pip-build-env-wl4hzra_/overlay/lib/python3.11/site-packages/setuptools/_distutils/dist.py\", line 1021, in run_command\n",
      "  \u001b[31m   \u001b[0m     cmd_obj.run()\n",
      "  \u001b[31m   \u001b[0m   File \"/tmp/pip-build-env-wl4hzra_/overlay/lib/python3.11/site-packages/setuptools/command/build_ext.py\", line 96, in run\n",
      "  \u001b[31m   \u001b[0m     _build_ext.run(self)\n",
      "  \u001b[31m   \u001b[0m   File \"/tmp/pip-build-env-wl4hzra_/overlay/lib/python3.11/site-packages/setuptools/_distutils/command/build_ext.py\", line 368, in run\n",
      "  \u001b[31m   \u001b[0m     self.build_extensions()\n",
      "  \u001b[31m   \u001b[0m   File \"/tmp/pip-build-env-wl4hzra_/overlay/lib/python3.11/site-packages/torch/utils/cpp_extension.py\", line 611, in build_extensions\n",
      "  \u001b[31m   \u001b[0m     _check_cuda_version(compiler_name, compiler_version)\n",
      "  \u001b[31m   \u001b[0m   File \"/tmp/pip-build-env-wl4hzra_/overlay/lib/python3.11/site-packages/torch/utils/cpp_extension.py\", line 479, in _check_cuda_version\n",
      "  \u001b[31m   \u001b[0m     raise RuntimeError(CUDA_MISMATCH_MESSAGE.format(cuda_str_version, torch.version.cuda))\n",
      "  \u001b[31m   \u001b[0m RuntimeError:\n",
      "  \u001b[31m   \u001b[0m The detected CUDA version (11.3) mismatches the version that was used to compile\n",
      "  \u001b[31m   \u001b[0m PyTorch (12.6). Please make sure to use the same CUDA versions.\n",
      "  \u001b[31m   \u001b[0m \n",
      "  \u001b[31m   \u001b[0m An error occurred when building editable wheel for groundingdino.\n",
      "  \u001b[31m   \u001b[0m See debugging tips in: https://setuptools.pypa.io/en/latest/userguide/development_mode.html#debugging-tips\n",
      "  \u001b[31m   \u001b[0m \u001b[31m[end of output]\u001b[0m\n",
      "  \n",
      "  \u001b[1;35mnote\u001b[0m: This error originates from a subprocess, and is likely not a problem with pip.\n",
      "\u001b[31m  ERROR: Failed building editable for groundingdino\u001b[0m\u001b[31m\n",
      "\u001b[0m\u001b[?25hFailed to build groundingdino\n",
      "\u001b[31mERROR: ERROR: Failed to build installable wheels for some pyproject.toml based projects (groundingdino)\u001b[0m\u001b[31m\n",
      "\u001b[33mDEPRECATION: Loading egg at /home/xcx/anaconda3/envs/sam/lib/python3.11/site-packages/munkres-1.1.4-py3.11.egg is deprecated. pip 25.1 will enforce this behaviour change. A possible replacement is to use pip for package installation. Discussion can be found at https://github.com/pypa/pip/issues/12330\u001b[0m\u001b[33m\n",
      "\u001b[0m\u001b[33mDEPRECATION: Loading egg at /home/xcx/anaconda3/envs/sam/lib/python3.11/site-packages/mmpose-0.28.0-py3.11.egg is deprecated. pip 25.1 will enforce this behaviour change. A possible replacement is to use pip for package installation. Discussion can be found at https://github.com/pypa/pip/issues/12330\u001b[0m\u001b[33m\n",
      "\u001b[0m\u001b[33mDEPRECATION: Loading egg at /home/xcx/anaconda3/envs/sam/lib/python3.11/site-packages/xtcocotools-1.14.3-py3.11-linux-x86_64.egg is deprecated. pip 25.1 will enforce this behaviour change. A possible replacement is to use pip for package installation. Discussion can be found at https://github.com/pypa/pip/issues/12330\u001b[0m\u001b[33m\n",
      "\u001b[0mLooking in indexes: https://pypi.mirrors.ustc.edu.cn/simple/\n",
      "Requirement already satisfied: diffusers in /home/xcx/anaconda3/envs/sam/lib/python3.11/site-packages (0.31.0)\n",
      "Requirement already satisfied: transformers in /home/xcx/anaconda3/envs/sam/lib/python3.11/site-packages (4.46.3)\n",
      "Requirement already satisfied: accelerate in /home/xcx/anaconda3/envs/sam/lib/python3.11/site-packages (1.1.1)\n",
      "Requirement already satisfied: scipy in /home/xcx/anaconda3/envs/sam/lib/python3.11/site-packages (1.14.1)\n",
      "Requirement already satisfied: safetensors in /home/xcx/anaconda3/envs/sam/lib/python3.11/site-packages (0.4.5)\n",
      "Requirement already satisfied: importlib-metadata in /home/xcx/anaconda3/envs/sam/lib/python3.11/site-packages (from diffusers) (8.5.0)\n",
      "Requirement already satisfied: filelock in /home/xcx/anaconda3/envs/sam/lib/python3.11/site-packages (from diffusers) (3.17.0)\n",
      "Requirement already satisfied: huggingface-hub>=0.23.2 in /home/xcx/anaconda3/envs/sam/lib/python3.11/site-packages (from diffusers) (0.26.3)\n",
      "Requirement already satisfied: numpy in /home/xcx/anaconda3/envs/sam/lib/python3.11/site-packages (from diffusers) (2.0.2)\n",
      "Requirement already satisfied: regex!=2019.12.17 in /home/xcx/anaconda3/envs/sam/lib/python3.11/site-packages (from diffusers) (2024.11.6)\n",
      "Requirement already satisfied: requests in /home/xcx/anaconda3/envs/sam/lib/python3.11/site-packages (from diffusers) (2.32.3)\n",
      "Requirement already satisfied: Pillow in /home/xcx/anaconda3/envs/sam/lib/python3.11/site-packages (from diffusers) (11.0.0)\n",
      "Requirement already satisfied: packaging>=20.0 in /home/xcx/anaconda3/envs/sam/lib/python3.11/site-packages (from transformers) (24.2)\n",
      "Requirement already satisfied: pyyaml>=5.1 in /home/xcx/anaconda3/envs/sam/lib/python3.11/site-packages (from transformers) (6.0.2)\n",
      "Collecting tokenizers<0.21,>=0.20 (from transformers)\n",
      "  Using cached https://mirrors.ustc.edu.cn/pypi/packages/50/f6/2841de926bc4118af996eaf0bdf0ea5b012245044766ffc0347e6c968e63/tokenizers-0.20.3-cp311-cp311-manylinux_2_17_x86_64.manylinux2014_x86_64.whl (3.0 MB)\n",
      "Requirement already satisfied: tqdm>=4.27 in /home/xcx/anaconda3/envs/sam/lib/python3.11/site-packages (from transformers) (4.67.1)\n",
      "Requirement already satisfied: psutil in /home/xcx/anaconda3/envs/sam/lib/python3.11/site-packages (from accelerate) (6.1.0)\n",
      "Requirement already satisfied: torch>=1.10.0 in /home/xcx/anaconda3/envs/sam/lib/python3.11/site-packages (from accelerate) (2.5.1)\n",
      "Requirement already satisfied: fsspec>=2023.5.0 in /home/xcx/anaconda3/envs/sam/lib/python3.11/site-packages (from huggingface-hub>=0.23.2->diffusers) (2024.10.0)\n",
      "Requirement already satisfied: typing-extensions>=3.7.4.3 in /home/xcx/anaconda3/envs/sam/lib/python3.11/site-packages (from huggingface-hub>=0.23.2->diffusers) (4.12.2)\n",
      "Requirement already satisfied: networkx in /home/xcx/anaconda3/envs/sam/lib/python3.11/site-packages (from torch>=1.10.0->accelerate) (3.4.2)\n",
      "Requirement already satisfied: jinja2 in /home/xcx/anaconda3/envs/sam/lib/python3.11/site-packages (from torch>=1.10.0->accelerate) (3.1.6)\n",
      "Requirement already satisfied: sympy!=1.13.2,>=1.13.1 in /home/xcx/anaconda3/envs/sam/lib/python3.11/site-packages (from torch>=1.10.0->accelerate) (1.13.1)\n",
      "Requirement already satisfied: zipp>=3.20 in /home/xcx/anaconda3/envs/sam/lib/python3.11/site-packages (from importlib-metadata->diffusers) (3.21.0)\n",
      "Requirement already satisfied: charset-normalizer<4,>=2 in /home/xcx/anaconda3/envs/sam/lib/python3.11/site-packages (from requests->diffusers) (3.3.2)\n",
      "Requirement already satisfied: idna<4,>=2.5 in /home/xcx/anaconda3/envs/sam/lib/python3.11/site-packages (from requests->diffusers) (3.7)\n",
      "Requirement already satisfied: urllib3<3,>=1.21.1 in /home/xcx/anaconda3/envs/sam/lib/python3.11/site-packages (from requests->diffusers) (1.26.20)\n",
      "Requirement already satisfied: certifi>=2017.4.17 in /home/xcx/anaconda3/envs/sam/lib/python3.11/site-packages (from requests->diffusers) (2025.4.26)\n",
      "Requirement already satisfied: mpmath<1.4,>=1.1.0 in /home/xcx/anaconda3/envs/sam/lib/python3.11/site-packages (from sympy!=1.13.2,>=1.13.1->torch>=1.10.0->accelerate) (1.3.0)\n",
      "Requirement already satisfied: MarkupSafe>=2.0 in /home/xcx/anaconda3/envs/sam/lib/python3.11/site-packages (from jinja2->torch>=1.10.0->accelerate) (2.1.5)\n",
      "Installing collected packages: tokenizers\n",
      "  Attempting uninstall: tokenizers\n",
      "    Found existing installation: tokenizers 0.15.1\n",
      "    Uninstalling tokenizers-0.15.1:\n",
      "      Successfully uninstalled tokenizers-0.15.1\n",
      "Successfully installed tokenizers-0.20.3\n"
     ]
    }
   ],
   "source": [
    "! python -m pip install -e segment_anything\n",
    "! python -m pip install -e GroundingDINO\n",
    "! pip install diffusers transformers accelerate scipy safetensors"
   ]
  },
  {
   "cell_type": "code",
   "execution_count": 2,
   "metadata": {},
   "outputs": [],
   "source": [
    "import os, sys\n",
    "\n",
    "sys.path.append(os.path.join(os.getcwd(), \"GroundingDINO\"))"
   ]
  },
  {
   "cell_type": "code",
   "execution_count": 3,
   "metadata": {},
   "outputs": [],
   "source": [
    "# If you have multiple GPUs, you can set the GPU to use here.\n",
    "# The default is to use the first GPU, which is usually GPU 0.\n",
    "os.environ[\"CUDA_VISIBLE_DEVICES\"] = \"0\""
   ]
  },
  {
   "cell_type": "code",
   "execution_count": 4,
   "metadata": {},
   "outputs": [
    {
     "name": "stderr",
     "output_type": "stream",
     "text": [
      "/home/xcx/anaconda3/envs/sam/lib/python3.11/site-packages/tqdm/auto.py:21: TqdmWarning: IProgress not found. Please update jupyter and ipywidgets. See https://ipywidgets.readthedocs.io/en/stable/user_install.html\n",
      "  from .autonotebook import tqdm as notebook_tqdm\n"
     ]
    },
    {
     "ename": "ImportError",
     "evalue": "tokenizers>=0.14,<0.19 is required for a normal functioning of this module, but found tokenizers==0.20.3.\nTry: `pip install transformers -U` or `pip install -e '.[dev]'` if you're working with git main",
     "output_type": "error",
     "traceback": [
      "\u001b[31m---------------------------------------------------------------------------\u001b[39m",
      "\u001b[31mImportError\u001b[39m                               Traceback (most recent call last)",
      "\u001b[36mCell\u001b[39m\u001b[36m \u001b[39m\u001b[32mIn[4]\u001b[39m\u001b[32m, line 12\u001b[39m\n\u001b[32m     10\u001b[39m \u001b[38;5;66;03m# Grounding DINO\u001b[39;00m\n\u001b[32m     11\u001b[39m \u001b[38;5;28;01mimport\u001b[39;00m \u001b[34;01mGroundingDINO\u001b[39;00m\u001b[34;01m.\u001b[39;00m\u001b[34;01mgroundingdino\u001b[39;00m\u001b[34;01m.\u001b[39;00m\u001b[34;01mdatasets\u001b[39;00m\u001b[34;01m.\u001b[39;00m\u001b[34;01mtransforms\u001b[39;00m \u001b[38;5;28;01mas\u001b[39;00m \u001b[34;01mT\u001b[39;00m\n\u001b[32m---> \u001b[39m\u001b[32m12\u001b[39m \u001b[38;5;28;01mfrom\u001b[39;00m \u001b[34;01mGroundingDINO\u001b[39;00m\u001b[34;01m.\u001b[39;00m\u001b[34;01mgroundingdino\u001b[39;00m\u001b[34;01m.\u001b[39;00m\u001b[34;01mmodels\u001b[39;00m \u001b[38;5;28;01mimport\u001b[39;00m build_model\n\u001b[32m     13\u001b[39m \u001b[38;5;28;01mfrom\u001b[39;00m \u001b[34;01mGroundingDINO\u001b[39;00m\u001b[34;01m.\u001b[39;00m\u001b[34;01mgroundingdino\u001b[39;00m\u001b[34;01m.\u001b[39;00m\u001b[34;01mutil\u001b[39;00m \u001b[38;5;28;01mimport\u001b[39;00m box_ops\n\u001b[32m     14\u001b[39m \u001b[38;5;28;01mfrom\u001b[39;00m \u001b[34;01mGroundingDINO\u001b[39;00m\u001b[34;01m.\u001b[39;00m\u001b[34;01mgroundingdino\u001b[39;00m\u001b[34;01m.\u001b[39;00m\u001b[34;01mutil\u001b[39;00m\u001b[34;01m.\u001b[39;00m\u001b[34;01mslconfig\u001b[39;00m \u001b[38;5;28;01mimport\u001b[39;00m SLConfig\n",
      "\u001b[36mFile \u001b[39m\u001b[32m~/桌面/Grounded-Segment-Anything/GroundingDINO/groundingdino/models/__init__.py:8\u001b[39m\n\u001b[32m      1\u001b[39m \u001b[38;5;66;03m# ------------------------------------------------------------------------\u001b[39;00m\n\u001b[32m      2\u001b[39m \u001b[38;5;66;03m# Grounding DINO\u001b[39;00m\n\u001b[32m      3\u001b[39m \u001b[38;5;66;03m# url: https://github.com/IDEA-Research/GroundingDINO\u001b[39;00m\n\u001b[32m   (...)\u001b[39m\u001b[32m      6\u001b[39m \u001b[38;5;66;03m# ------------------------------------------------------------------------\u001b[39;00m\n\u001b[32m      7\u001b[39m \u001b[38;5;66;03m# Copyright (c) Facebook, Inc. and its affiliates. All Rights Reserved\u001b[39;00m\n\u001b[32m----> \u001b[39m\u001b[32m8\u001b[39m \u001b[38;5;28;01mfrom\u001b[39;00m \u001b[34;01m.\u001b[39;00m\u001b[34;01mGroundingDINO\u001b[39;00m \u001b[38;5;28;01mimport\u001b[39;00m build_groundingdino\n\u001b[32m     11\u001b[39m \u001b[38;5;28;01mdef\u001b[39;00m \u001b[34mbuild_model\u001b[39m(args):\n\u001b[32m     12\u001b[39m     \u001b[38;5;66;03m# we use register to maintain models from catdet6 on.\u001b[39;00m\n\u001b[32m     13\u001b[39m     \u001b[38;5;28;01mfrom\u001b[39;00m \u001b[34;01m.\u001b[39;00m\u001b[34;01mregistry\u001b[39;00m \u001b[38;5;28;01mimport\u001b[39;00m MODULE_BUILD_FUNCS\n",
      "\u001b[36mFile \u001b[39m\u001b[32m~/桌面/Grounded-Segment-Anything/GroundingDINO/groundingdino/models/GroundingDINO/__init__.py:15\u001b[39m\n\u001b[32m      1\u001b[39m \u001b[38;5;66;03m# ------------------------------------------------------------------------\u001b[39;00m\n\u001b[32m      2\u001b[39m \u001b[38;5;66;03m# Grounding DINO\u001b[39;00m\n\u001b[32m      3\u001b[39m \u001b[38;5;66;03m# url: https://github.com/IDEA-Research/GroundingDINO\u001b[39;00m\n\u001b[32m   (...)\u001b[39m\u001b[32m     12\u001b[39m \u001b[38;5;66;03m# Copyright (c) Facebook, Inc. and its affiliates. All Rights Reserved.\u001b[39;00m\n\u001b[32m     13\u001b[39m \u001b[38;5;66;03m# ------------------------------------------------------------------------\u001b[39;00m\n\u001b[32m---> \u001b[39m\u001b[32m15\u001b[39m \u001b[38;5;28;01mfrom\u001b[39;00m \u001b[34;01m.\u001b[39;00m\u001b[34;01mgroundingdino\u001b[39;00m \u001b[38;5;28;01mimport\u001b[39;00m build_groundingdino\n",
      "\u001b[36mFile \u001b[39m\u001b[32m~/桌面/Grounded-Segment-Anything/GroundingDINO/groundingdino/models/GroundingDINO/groundingdino.py:24\u001b[39m\n\u001b[32m     22\u001b[39m \u001b[38;5;28;01mfrom\u001b[39;00m \u001b[34;01mtorch\u001b[39;00m \u001b[38;5;28;01mimport\u001b[39;00m nn\n\u001b[32m     23\u001b[39m \u001b[38;5;28;01mfrom\u001b[39;00m \u001b[34;01mtorchvision\u001b[39;00m\u001b[34;01m.\u001b[39;00m\u001b[34;01mops\u001b[39;00m\u001b[34;01m.\u001b[39;00m\u001b[34;01mboxes\u001b[39;00m \u001b[38;5;28;01mimport\u001b[39;00m nms\n\u001b[32m---> \u001b[39m\u001b[32m24\u001b[39m \u001b[38;5;28;01mfrom\u001b[39;00m \u001b[34;01mtransformers\u001b[39;00m \u001b[38;5;28;01mimport\u001b[39;00m AutoTokenizer, BertModel, BertTokenizer, RobertaModel, RobertaTokenizerFast\n\u001b[32m     26\u001b[39m \u001b[38;5;28;01mfrom\u001b[39;00m \u001b[34;01mgroundingdino\u001b[39;00m\u001b[34;01m.\u001b[39;00m\u001b[34;01mutil\u001b[39;00m \u001b[38;5;28;01mimport\u001b[39;00m box_ops, get_tokenlizer\n\u001b[32m     27\u001b[39m \u001b[38;5;28;01mfrom\u001b[39;00m \u001b[34;01mgroundingdino\u001b[39;00m\u001b[34;01m.\u001b[39;00m\u001b[34;01mutil\u001b[39;00m\u001b[34;01m.\u001b[39;00m\u001b[34;01mmisc\u001b[39;00m \u001b[38;5;28;01mimport\u001b[39;00m (\n\u001b[32m     28\u001b[39m     NestedTensor,\n\u001b[32m     29\u001b[39m     accuracy,\n\u001b[32m   (...)\u001b[39m\u001b[32m     34\u001b[39m     nested_tensor_from_tensor_list,\n\u001b[32m     35\u001b[39m )\n",
      "\u001b[36mFile \u001b[39m\u001b[32m~/anaconda3/envs/sam/lib/python3.11/site-packages/transformers/__init__.py:26\u001b[39m\n\u001b[32m     23\u001b[39m \u001b[38;5;28;01mfrom\u001b[39;00m \u001b[34;01mtyping\u001b[39;00m \u001b[38;5;28;01mimport\u001b[39;00m TYPE_CHECKING\n\u001b[32m     25\u001b[39m \u001b[38;5;66;03m# Check the dependencies satisfy the minimal versions required.\u001b[39;00m\n\u001b[32m---> \u001b[39m\u001b[32m26\u001b[39m \u001b[38;5;28;01mfrom\u001b[39;00m \u001b[34;01m.\u001b[39;00m \u001b[38;5;28;01mimport\u001b[39;00m dependency_versions_check\n\u001b[32m     27\u001b[39m \u001b[38;5;28;01mfrom\u001b[39;00m \u001b[34;01m.\u001b[39;00m\u001b[34;01mutils\u001b[39;00m \u001b[38;5;28;01mimport\u001b[39;00m (\n\u001b[32m     28\u001b[39m     OptionalDependencyNotAvailable,\n\u001b[32m     29\u001b[39m     _LazyModule,\n\u001b[32m   (...)\u001b[39m\u001b[32m     48\u001b[39m     logging,\n\u001b[32m     49\u001b[39m )\n\u001b[32m     52\u001b[39m logger = logging.get_logger(\u001b[34m__name__\u001b[39m)  \u001b[38;5;66;03m# pylint: disable=invalid-name\u001b[39;00m\n",
      "\u001b[36mFile \u001b[39m\u001b[32m~/anaconda3/envs/sam/lib/python3.11/site-packages/transformers/dependency_versions_check.py:57\u001b[39m\n\u001b[32m     54\u001b[39m         \u001b[38;5;28;01mif\u001b[39;00m \u001b[38;5;129;01mnot\u001b[39;00m is_accelerate_available():\n\u001b[32m     55\u001b[39m             \u001b[38;5;28;01mcontinue\u001b[39;00m  \u001b[38;5;66;03m# not required, check version only if installed\u001b[39;00m\n\u001b[32m---> \u001b[39m\u001b[32m57\u001b[39m     \u001b[43mrequire_version_core\u001b[49m\u001b[43m(\u001b[49m\u001b[43mdeps\u001b[49m\u001b[43m[\u001b[49m\u001b[43mpkg\u001b[49m\u001b[43m]\u001b[49m\u001b[43m)\u001b[49m\n\u001b[32m     58\u001b[39m \u001b[38;5;28;01melse\u001b[39;00m:\n\u001b[32m     59\u001b[39m     \u001b[38;5;28;01mraise\u001b[39;00m \u001b[38;5;167;01mValueError\u001b[39;00m(\u001b[33mf\u001b[39m\u001b[33m\"\u001b[39m\u001b[33mcan\u001b[39m\u001b[33m'\u001b[39m\u001b[33mt find \u001b[39m\u001b[38;5;132;01m{\u001b[39;00mpkg\u001b[38;5;132;01m}\u001b[39;00m\u001b[33m in \u001b[39m\u001b[38;5;132;01m{\u001b[39;00mdeps.keys()\u001b[38;5;132;01m}\u001b[39;00m\u001b[33m, check dependency_versions_table.py\u001b[39m\u001b[33m\"\u001b[39m)\n",
      "\u001b[36mFile \u001b[39m\u001b[32m~/anaconda3/envs/sam/lib/python3.11/site-packages/transformers/utils/versions.py:117\u001b[39m, in \u001b[36mrequire_version_core\u001b[39m\u001b[34m(requirement)\u001b[39m\n\u001b[32m    115\u001b[39m \u001b[38;5;250m\u001b[39m\u001b[33;03m\"\"\"require_version wrapper which emits a core-specific hint on failure\"\"\"\u001b[39;00m\n\u001b[32m    116\u001b[39m hint = \u001b[33m\"\u001b[39m\u001b[33mTry: `pip install transformers -U` or `pip install -e \u001b[39m\u001b[33m'\u001b[39m\u001b[33m.[dev]\u001b[39m\u001b[33m'\u001b[39m\u001b[33m` if you\u001b[39m\u001b[33m'\u001b[39m\u001b[33mre working with git main\u001b[39m\u001b[33m\"\u001b[39m\n\u001b[32m--> \u001b[39m\u001b[32m117\u001b[39m \u001b[38;5;28;01mreturn\u001b[39;00m \u001b[43mrequire_version\u001b[49m\u001b[43m(\u001b[49m\u001b[43mrequirement\u001b[49m\u001b[43m,\u001b[49m\u001b[43m \u001b[49m\u001b[43mhint\u001b[49m\u001b[43m)\u001b[49m\n",
      "\u001b[36mFile \u001b[39m\u001b[32m~/anaconda3/envs/sam/lib/python3.11/site-packages/transformers/utils/versions.py:111\u001b[39m, in \u001b[36mrequire_version\u001b[39m\u001b[34m(requirement, hint)\u001b[39m\n\u001b[32m    109\u001b[39m \u001b[38;5;28;01mif\u001b[39;00m want_ver \u001b[38;5;129;01mis\u001b[39;00m \u001b[38;5;129;01mnot\u001b[39;00m \u001b[38;5;28;01mNone\u001b[39;00m:\n\u001b[32m    110\u001b[39m     \u001b[38;5;28;01mfor\u001b[39;00m op, want_ver \u001b[38;5;129;01min\u001b[39;00m wanted.items():\n\u001b[32m--> \u001b[39m\u001b[32m111\u001b[39m         \u001b[43m_compare_versions\u001b[49m\u001b[43m(\u001b[49m\u001b[43mop\u001b[49m\u001b[43m,\u001b[49m\u001b[43m \u001b[49m\u001b[43mgot_ver\u001b[49m\u001b[43m,\u001b[49m\u001b[43m \u001b[49m\u001b[43mwant_ver\u001b[49m\u001b[43m,\u001b[49m\u001b[43m \u001b[49m\u001b[43mrequirement\u001b[49m\u001b[43m,\u001b[49m\u001b[43m \u001b[49m\u001b[43mpkg\u001b[49m\u001b[43m,\u001b[49m\u001b[43m \u001b[49m\u001b[43mhint\u001b[49m\u001b[43m)\u001b[49m\n",
      "\u001b[36mFile \u001b[39m\u001b[32m~/anaconda3/envs/sam/lib/python3.11/site-packages/transformers/utils/versions.py:44\u001b[39m, in \u001b[36m_compare_versions\u001b[39m\u001b[34m(op, got_ver, want_ver, requirement, pkg, hint)\u001b[39m\n\u001b[32m     39\u001b[39m     \u001b[38;5;28;01mraise\u001b[39;00m \u001b[38;5;167;01mValueError\u001b[39;00m(\n\u001b[32m     40\u001b[39m         \u001b[33mf\u001b[39m\u001b[33m\"\u001b[39m\u001b[33mUnable to compare versions for \u001b[39m\u001b[38;5;132;01m{\u001b[39;00mrequirement\u001b[38;5;132;01m}\u001b[39;00m\u001b[33m: need=\u001b[39m\u001b[38;5;132;01m{\u001b[39;00mwant_ver\u001b[38;5;132;01m}\u001b[39;00m\u001b[33m found=\u001b[39m\u001b[38;5;132;01m{\u001b[39;00mgot_ver\u001b[38;5;132;01m}\u001b[39;00m\u001b[33m. This is unusual. Consider\u001b[39m\u001b[33m\"\u001b[39m\n\u001b[32m     41\u001b[39m         \u001b[33mf\u001b[39m\u001b[33m\"\u001b[39m\u001b[33m reinstalling \u001b[39m\u001b[38;5;132;01m{\u001b[39;00mpkg\u001b[38;5;132;01m}\u001b[39;00m\u001b[33m.\u001b[39m\u001b[33m\"\u001b[39m\n\u001b[32m     42\u001b[39m     )\n\u001b[32m     43\u001b[39m \u001b[38;5;28;01mif\u001b[39;00m \u001b[38;5;129;01mnot\u001b[39;00m ops[op](version.parse(got_ver), version.parse(want_ver)):\n\u001b[32m---> \u001b[39m\u001b[32m44\u001b[39m     \u001b[38;5;28;01mraise\u001b[39;00m \u001b[38;5;167;01mImportError\u001b[39;00m(\n\u001b[32m     45\u001b[39m         \u001b[33mf\u001b[39m\u001b[33m\"\u001b[39m\u001b[38;5;132;01m{\u001b[39;00mrequirement\u001b[38;5;132;01m}\u001b[39;00m\u001b[33m is required for a normal functioning of this module, but found \u001b[39m\u001b[38;5;132;01m{\u001b[39;00mpkg\u001b[38;5;132;01m}\u001b[39;00m\u001b[33m==\u001b[39m\u001b[38;5;132;01m{\u001b[39;00mgot_ver\u001b[38;5;132;01m}\u001b[39;00m\u001b[33m.\u001b[39m\u001b[38;5;132;01m{\u001b[39;00mhint\u001b[38;5;132;01m}\u001b[39;00m\u001b[33m\"\u001b[39m\n\u001b[32m     46\u001b[39m     )\n",
      "\u001b[31mImportError\u001b[39m: tokenizers>=0.14,<0.19 is required for a normal functioning of this module, but found tokenizers==0.20.3.\nTry: `pip install transformers -U` or `pip install -e '.[dev]'` if you're working with git main"
     ]
    }
   ],
   "source": [
    "import argparse\n",
    "import os\n",
    "import copy\n",
    "\n",
    "import numpy as np\n",
    "import torch\n",
    "from PIL import Image, ImageDraw, ImageFont\n",
    "from torchvision.ops import box_convert\n",
    "\n",
    "# Grounding DINO\n",
    "import GroundingDINO.groundingdino.datasets.transforms as T\n",
    "from GroundingDINO.groundingdino.models import build_model\n",
    "from GroundingDINO.groundingdino.util import box_ops\n",
    "from GroundingDINO.groundingdino.util.slconfig import SLConfig\n",
    "from GroundingDINO.groundingdino.util.utils import clean_state_dict, get_phrases_from_posmap\n",
    "from GroundingDINO.groundingdino.util.inference import annotate, load_image, predict\n",
    "\n",
    "import supervision as sv\n",
    "\n",
    "# segment anything\n",
    "from segment_anything import build_sam, SamPredictor \n",
    "import cv2\n",
    "import numpy as np\n",
    "import matplotlib.pyplot as plt\n",
    "\n",
    "\n",
    "# diffusers\n",
    "import PIL\n",
    "import requests\n",
    "import torch\n",
    "from io import BytesIO\n",
    "from diffusers import StableDiffusionInpaintPipeline\n",
    "\n",
    "\n",
    "from huggingface_hub import hf_hub_download"
   ]
  },
  {
   "attachments": {},
   "cell_type": "markdown",
   "metadata": {},
   "source": [
    "# Load Grounding DINO model"
   ]
  },
  {
   "cell_type": "code",
   "execution_count": null,
   "metadata": {},
   "outputs": [],
   "source": [
    "def load_model_hf(repo_id, filename, ckpt_config_filename, device='cpu'):\n",
    "    cache_config_file = hf_hub_download(repo_id=repo_id, filename=ckpt_config_filename)\n",
    "\n",
    "    args = SLConfig.fromfile(cache_config_file) \n",
    "    model = build_model(args)\n",
    "    args.device = device\n",
    "\n",
    "    cache_file = hf_hub_download(repo_id=repo_id, filename=filename)\n",
    "    checkpoint = torch.load(cache_file, map_location='cpu')\n",
    "    log = model.load_state_dict(clean_state_dict(checkpoint['model']), strict=False)\n",
    "    print(\"Model loaded from {} \\n => {}\".format(cache_file, log))\n",
    "    _ = model.eval()\n",
    "    return model   "
   ]
  },
  {
   "cell_type": "code",
   "execution_count": null,
   "metadata": {},
   "outputs": [],
   "source": [
    "# Use this command for evaluate the Grounding DINO model\n",
    "# Or you can download the model by yourself\n",
    "ckpt_repo_id = \"ShilongLiu/GroundingDINO\"\n",
    "ckpt_filenmae = \"groundingdino_swinb_cogcoor.pth\"\n",
    "ckpt_config_filename = \"GroundingDINO_SwinB.cfg.py\""
   ]
  },
  {
   "cell_type": "code",
   "execution_count": null,
   "metadata": {},
   "outputs": [],
   "source": [
    "groundingdino_model = load_model_hf(ckpt_repo_id, ckpt_filenmae, ckpt_config_filename)"
   ]
  },
  {
   "attachments": {},
   "cell_type": "markdown",
   "metadata": {},
   "source": [
    "# Load SAM model"
   ]
  },
  {
   "cell_type": "code",
   "execution_count": null,
   "metadata": {},
   "outputs": [],
   "source": [
    "! wget https://dl.fbaipublicfiles.com/segment_anything/sam_vit_h_4b8939.pth"
   ]
  },
  {
   "cell_type": "code",
   "execution_count": null,
   "metadata": {},
   "outputs": [],
   "source": [
    "DEVICE = torch.device('cuda:0' if torch.cuda.is_available() else 'cpu')\n",
    "\n",
    "sam_checkpoint = 'sam_vit_h_4b8939.pth'\n",
    "sam = build_sam(checkpoint=sam_checkpoint)\n",
    "sam.to(device=DEVICE)\n",
    "sam_predictor = SamPredictor(sam)"
   ]
  },
  {
   "cell_type": "markdown",
   "metadata": {},
   "source": [
    "# Load stable diffusion inpainting models"
   ]
  },
  {
   "cell_type": "code",
   "execution_count": null,
   "metadata": {},
   "outputs": [],
   "source": [
    "from diffusers import StableDiffusionInpaintPipeline\n",
    "\n",
    "if DEVICE.type == 'cpu':\n",
    "    float_type = torch.float32\n",
    "else:\n",
    "    float_type = torch.float16\n",
    "\n",
    "pipe = StableDiffusionInpaintPipeline.from_pretrained(\n",
    "    \"stabilityai/stable-diffusion-2-inpainting\",\n",
    "    torch_dtype=float_type,\n",
    ")\n",
    "\n",
    "if DEVICE.type != 'cpu':\n",
    "    pipe = pipe.to(\"cuda\")"
   ]
  },
  {
   "cell_type": "markdown",
   "metadata": {},
   "source": [
    "# Load demo image"
   ]
  },
  {
   "cell_type": "code",
   "execution_count": null,
   "metadata": {},
   "outputs": [],
   "source": [
    "import io\n",
    "\n",
    "\n",
    "def download_image(url, image_file_path):\n",
    "    r = requests.get(url, timeout=4.0)\n",
    "    if r.status_code != requests.codes.ok:\n",
    "        assert False, 'Status code error: {}.'.format(r.status_code)\n",
    "\n",
    "    with Image.open(io.BytesIO(r.content)) as im:\n",
    "        im.save(image_file_path)\n",
    "\n",
    "    print('Image downloaded from url: {} and saved to: {}.'.format(url, image_file_path))\n",
    "\n",
    "# download_image(image_url, local_image_path)"
   ]
  },
  {
   "cell_type": "code",
   "execution_count": null,
   "metadata": {},
   "outputs": [],
   "source": [
    "local_image_path = 'assets/inpaint_demo.jpg'"
   ]
  },
  {
   "cell_type": "markdown",
   "metadata": {},
   "source": [
    "# Run Grounding DINO for detection"
   ]
  },
  {
   "cell_type": "code",
   "execution_count": null,
   "metadata": {},
   "outputs": [],
   "source": [
    "TEXT_PROMPT = \"bench\"\n",
    "BOX_TRESHOLD = 0.3\n",
    "TEXT_TRESHOLD = 0.25\n",
    "\n",
    "image_source, image = load_image(local_image_path)\n",
    "\n",
    "boxes, logits, phrases = predict(\n",
    "    model=groundingdino_model, \n",
    "    image=image, \n",
    "    caption=TEXT_PROMPT, \n",
    "    box_threshold=BOX_TRESHOLD, \n",
    "    text_threshold=TEXT_TRESHOLD,\n",
    "    device=DEVICE\n",
    ")\n",
    "\n",
    "annotated_frame = annotate(image_source=image_source, boxes=boxes, logits=logits, phrases=phrases)\n",
    "annotated_frame = annotated_frame[...,::-1] # BGR to RGB"
   ]
  },
  {
   "cell_type": "code",
   "execution_count": null,
   "metadata": {},
   "outputs": [],
   "source": [
    "Image.fromarray(image_source)"
   ]
  },
  {
   "cell_type": "code",
   "execution_count": null,
   "metadata": {},
   "outputs": [],
   "source": [
    "Image.fromarray(annotated_frame)"
   ]
  },
  {
   "cell_type": "markdown",
   "metadata": {},
   "source": [
    "# Run the segmentation model"
   ]
  },
  {
   "cell_type": "code",
   "execution_count": null,
   "metadata": {},
   "outputs": [],
   "source": [
    "# set image\n",
    "sam_predictor.set_image(image_source)"
   ]
  },
  {
   "cell_type": "code",
   "execution_count": null,
   "metadata": {},
   "outputs": [],
   "source": [
    "# box: normalized box xywh -> unnormalized xyxy\n",
    "H, W, _ = image_source.shape\n",
    "boxes_xyxy = box_ops.box_cxcywh_to_xyxy(boxes) * torch.Tensor([W, H, W, H])"
   ]
  },
  {
   "cell_type": "code",
   "execution_count": null,
   "metadata": {},
   "outputs": [],
   "source": [
    "transformed_boxes = sam_predictor.transform.apply_boxes_torch(boxes_xyxy, image_source.shape[:2]).to(DEVICE)\n",
    "masks, _, _ = sam_predictor.predict_torch(\n",
    "            point_coords = None,\n",
    "            point_labels = None,\n",
    "            boxes = transformed_boxes,\n",
    "            multimask_output = False,\n",
    "        )\n"
   ]
  },
  {
   "cell_type": "code",
   "execution_count": null,
   "metadata": {},
   "outputs": [],
   "source": [
    "def show_mask(mask, image, random_color=True):\n",
    "    if random_color:\n",
    "        color = np.concatenate([np.random.random(3), np.array([0.8])], axis=0)\n",
    "    else:\n",
    "        color = np.array([30/255, 144/255, 255/255, 0.6])\n",
    "    h, w = mask.shape[-2:]\n",
    "    mask_image = mask.reshape(h, w, 1) * color.reshape(1, 1, -1)\n",
    "    \n",
    "    annotated_frame_pil = Image.fromarray(image).convert(\"RGBA\")\n",
    "    mask_image_pil = Image.fromarray((mask_image.cpu().numpy() * 255).astype(np.uint8)).convert(\"RGBA\")\n",
    "\n",
    "    return np.array(Image.alpha_composite(annotated_frame_pil, mask_image_pil))"
   ]
  },
  {
   "cell_type": "code",
   "execution_count": null,
   "metadata": {},
   "outputs": [],
   "source": [
    "annotated_frame_with_mask = show_mask(masks[0][0], annotated_frame)"
   ]
  },
  {
   "cell_type": "code",
   "execution_count": null,
   "metadata": {},
   "outputs": [],
   "source": [
    "Image.fromarray(annotated_frame_with_mask)"
   ]
  },
  {
   "cell_type": "markdown",
   "metadata": {},
   "source": [
    "# Image Inpainting"
   ]
  },
  {
   "cell_type": "code",
   "execution_count": null,
   "metadata": {},
   "outputs": [],
   "source": [
    "image_mask = masks[0][0].cpu().numpy()"
   ]
  },
  {
   "cell_type": "code",
   "execution_count": null,
   "metadata": {},
   "outputs": [],
   "source": [
    "image_source_pil = Image.fromarray(image_source)\n",
    "annotated_frame_pil = Image.fromarray(annotated_frame)\n",
    "image_mask_pil = Image.fromarray(image_mask)\n",
    "annotated_frame_with_mask_pil = Image.fromarray(annotated_frame_with_mask)"
   ]
  },
  {
   "cell_type": "code",
   "execution_count": null,
   "metadata": {},
   "outputs": [],
   "source": [
    "image_mask_pil"
   ]
  },
  {
   "cell_type": "code",
   "execution_count": null,
   "metadata": {},
   "outputs": [],
   "source": [
    "# resize for inpaint\n",
    "image_source_for_inpaint = image_source_pil.resize((512, 512))\n",
    "image_mask_for_inpaint = image_mask_pil.resize((512, 512))"
   ]
  },
  {
   "cell_type": "code",
   "execution_count": null,
   "metadata": {},
   "outputs": [],
   "source": [
    "prompt = \"A sofa, high quality, detailed, cyberpunk, futuristic, with a lot of details, and a lot of colors.\"\n",
    "#image and mask_image should be PIL images.\n",
    "#The mask structure is white for inpainting and black for keeping as is\n",
    "image_inpainting = pipe(prompt=prompt, image=image_source_for_inpaint, mask_image=image_mask_for_inpaint).images[0]"
   ]
  },
  {
   "cell_type": "code",
   "execution_count": null,
   "metadata": {},
   "outputs": [],
   "source": [
    "image_inpainting = image_inpainting.resize((image_source_pil.size[0], image_source_pil.size[1]))"
   ]
  },
  {
   "cell_type": "code",
   "execution_count": null,
   "metadata": {},
   "outputs": [],
   "source": [
    "image_inpainting"
   ]
  },
  {
   "cell_type": "code",
   "execution_count": null,
   "metadata": {},
   "outputs": [],
   "source": []
  }
 ],
 "metadata": {
  "kernelspec": {
   "display_name": "SAM",
   "language": "python",
   "name": "sam"
  },
  "language_info": {
   "codemirror_mode": {
    "name": "ipython",
    "version": 3
   },
   "file_extension": ".py",
   "mimetype": "text/x-python",
   "name": "python",
   "nbconvert_exporter": "python",
   "pygments_lexer": "ipython3",
   "version": "3.11.11"
  }
 },
 "nbformat": 4,
 "nbformat_minor": 4
}
